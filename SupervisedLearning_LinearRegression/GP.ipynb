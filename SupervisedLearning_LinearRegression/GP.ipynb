{
    "metadata": {
        "kernelspec": {
            "name": "python3",
            "display_name": "Python 3 (ipykernel)",
            "language": "python"
        }
    },
    "nbformat": 4,
    "nbformat_minor": 2,
    "cells": [
        {
            "attachments": {},
            "cell_type": "markdown",
            "metadata": {},
            "source": [
                "# Python and Data Science\n",
                "## Machine Learning\n",
                "### Part 1: Linear Regression using Scikit-Learn"
            ]
        },
        {
            "attachments": {},
            "cell_type": "markdown",
            "metadata": {},
            "source": [
                "Libraries Used:\n",
                "\n",
                "- [Numpy](https://www.youtube.com/watch?v=lLRBYKwP8GQ\u0026t=1073s) - Used for making arrays\n",
                "- [Pandas](https://www.youtube.com/watch?v=zN2Hua6oII0\u0026t=8s) - Used for handling data sets\n",
                "- [matplotlib](https://www.youtube.com/watch?v=nzKy9GY12yo) - Used for making charts and graphs\n",
                "- [scikit-learn intro](https://www.youtube.com/watch?v=rvVkVsG49uU) - Used to handle complex mathematics\n",
                "- [scikit-learn tut](https://www.youtube.com/watch?v=M9Itm95JzL0) - In depth discussion\n",
                "- [pickle](https://www.youtube.com/watch?v=6Q56r_fVqgw) - Used to preserve trained models\n",
                ""
            ]
        },
        {
            "cell_type": "code",
            "execution_count": 30,
            "metadata": {},
            "outputs": [],
            "source": [
                "# Library Imports\n",
                "import pandas as pd\n",
                "import numpy as np\n",
                "import sklearn\n",
                "import matplotlib.pyplot as pyplot\n",
                "import pickle\n",
                "from sklearn import linear_model\n",
                "from sklearn.utils import shuffle\n",
                "from matplotlib import style"
            ]
        },
        {
            "cell_type": "code",
            "execution_count": 31,
            "metadata": {},
            "outputs": [
                {
                    "name": "stdout",
                    "output_type": "stream",
                    "text": "  school sex  age address famsize Pstatus  Medu  Fedu     Mjob      Fjob  ...  \\\n0     GP   F   18       U     GT3       A     4     4  at_home   teacher  ...   \n1     GP   F   17       U     GT3       T     1     1  at_home     other  ...   \n2     GP   F   15       U     LE3       T     1     1  at_home     other  ...   \n3     GP   F   15       U     GT3       T     4     2   health  services  ...   \n4     GP   F   16       U     GT3       T     3     3    other     other  ...   \n\n  famrel freetime  goout  Dalc  Walc health absences  G1  G2  G3  \n0      4        3      4     1     1      3        6   5   6   6  \n1      5        3      3     1     1      3        4   5   5   6  \n2      4        3      2     2     3      3       10   7   8  10  \n3      3        2      2     1     1      5        2  15  14  15  \n4      4        3      2     1     2      5        4   6  10  10  \n\n[5 rows x 33 columns]\n"
                }
            ],
            "source": [
                "data = pd.read_csv(\"student-mat.csv\", sep=\";\") # Getting Panda to bring in the data\n",
                "print(data.head()) # Printing the first few rows of the data (the head)"
            ]
        },
        {
            "cell_type": "code",
            "execution_count": 32,
            "metadata": {},
            "outputs": [
                {
                    "name": "stdout",
                    "output_type": "stream",
                    "text": "   G1  G2  G3  studytime  failures  absences\n0   5   6   6          2         0         6\n1   5   5   6          2         0         4\n2   7   8  10          2         3        10\n3  15  14  15          3         0         2\n4   6  10  10          2         0         4\n"
                }
            ],
            "source": [
                "data = data[[\"G1\", \"G2\",\"G3\", \"studytime\", \"failures\", \"absences\"]] # Select the wanted data\n",
                "print(data.head()) # Prints head of the wanted data"
            ]
        },
        {
            "attachments": {},
            "cell_type": "markdown",
            "metadata": {},
            "source": [
                "## Attributes and Labels\n",
                "\n",
                "In machine learning:\n",
                "\n",
                "1. **Attributes** (Features): Characteristics or properties of data used as input for algorithms. Also known as variables or features. Represented by a feature vector for each data point.\n",
                "\n",
                "2. **Labels** (Target Variable): Values we want the model to predict or learn. The dataset is labeled in supervised learning, where each data point has an associated label serving as ground truth.\n",
                "\n",
                "The goal is to use attributes to learn patterns and relationships that enable the model to predict labels for new, unseen data.\n",
                "\n",
                "List the attributes here:\n",
                "\n",
                "What is the label in this example?\n",
                ""
            ]
        },
        {
            "cell_type": "code",
            "execution_count": 33,
            "metadata": {},
            "outputs": [],
            "source": [
                "predict = \"G3\" # Sets which attribute we want to predict\n",
                "\n",
                "x = np.array(data.drop(predict, axis=1)) # Drops the whole column of G3, as we are trying to predict it (axis 1 is column)\n",
                "y = np.array(data[predict])"
            ]
        },
        {
            "cell_type": "code",
            "execution_count": 34,
            "metadata": {},
            "outputs": [],
            "source": [
                "# Split the data set into train and test sets. 0.1 means 10% of data is used for testing, usually 80-20\n",
                "x_train, x_test, y_train, y_test = sklearn.model_selection.train_test_split(x, y, test_size=0.1)"
            ]
        },
        {
            "attachments": {},
            "cell_type": "markdown",
            "metadata": {},
            "source": [
                "### Linear Regression\n",
                " Using a set of data points, the LR algorithm attempts to find a 'line of best fit' through the data.\n",
                " The 'line of best fit' is a corrrelation between the data points.\n",
                " LR is best used in a situation when there is a strong correlation of data to begin with.\n",
                " \n",
                " \u003ctable\u003e\n",
                "    \u003ctr\u003e\n",
                "        \u003ctd\u003e\n",
                "            \u003cimg src=\"LR-data1.png\" width=\"50%\" /\u003e\n",
                "        \u003c/td\u003e\n",
                "        \u003ctd\u003e\n",
                "            \u003cimg src=\"LR-data2.png\" width=\"50%\" /\u003e\n",
                "        \u003c/td\u003e\n",
                "    \u003c/tr\u003e\n",
                "    \u003ctr\u003e\n",
                "        \u003ctd\u003e\n",
                "            \u003cp style=\"text-align:center\"\u003eStrongly Correlated\u003c/p\u003e\n",
                "        \u003c/td\u003e\n",
                "        \u003ctd\u003e\n",
                "            \u003cp style=\"text-align:center\"\u003ePoorly Correlated\u003c/p\u003e\n",
                "        \u003c/td\u003e\n",
                "    \u003c/tr\u003e\n",
                " \u003c/table\u003e\n",
                " \n",
                " \u003cb\u003eLinear Equation: y = mx + b, where m is the gradient of the line.\n",
                " For any given x and a known gradient, y can be predicted.\u003c/b\u003e"
            ]
        },
        {
            "cell_type": "code",
            "execution_count": 35,
            "metadata": {},
            "outputs": [
                {
                    "name": "stdout",
                    "output_type": "stream",
                    "text": "0.8067017118057151\n"
                }
            ],
            "source": [
                "linear = linear_model.LinearRegression() # sets linear variable to a linear regression model\n",
                "\n",
                "linear.fit(x_train, y_train) # Defines line of best fit\n",
                "acc = linear.score(x_test, y_test) # Gets an accuracy value from the test variables (comparing)\n",
                "print(acc) # Accuracies are diff for everyone bc it gets randomly shuffled"
            ]
        },
        {
            "attachments": {},
            "cell_type": "markdown",
            "metadata": {},
            "source": [
                "## Save the Model with pickle\n",
                "\n",
                "- Use the runall sutton several times until we get a high acc value\n",
                "\n",
                "- Comment out the cell above\n",
                ""
            ]
        },
        {
            "cell_type": "code",
            "execution_count": 36,
            "metadata": {},
            "outputs": [],
            "source": [
                "with open(\"studentmodel.pickle\", \"wb\") as f: # opens a model with pickle, writing it as binary\n",
                "    pickle.dump(linear, f)"
            ]
        },
        {
            "cell_type": "code",
            "execution_count": 37,
            "metadata": {},
            "outputs": [],
            "source": [
                "# Load the pickle file \n",
                "pickle_in = open(\"studentmodel.pickle\", \"rb\") # reads the binary, saves it to variable\n",
                "linear = pickle.load(pickle_in)"
            ]
        },
        {
            "cell_type": "code",
            "execution_count": 38,
            "metadata": {},
            "outputs": [
                {
                    "name": "stdout",
                    "output_type": "stream",
                    "text": "Coefficient: \n [ 0.15467938  0.96273737 -0.13338088 -0.32538084  0.03671152]\nIntercept: \n -1.4288231713842805\n"
                }
            ],
            "source": [
                "# How to use the model (Coefficients make up the gradient)\n",
                "print('Coefficient: \\n', linear.coef_) # 5 attributes used, G1 is coef 1 and so on. G2 has most impact on prediction. \n",
                "print('Intercept: \\n', linear.intercept_) # prints the y intercept"
            ]
        },
        {
            "cell_type": "code",
            "execution_count": 39,
            "metadata": {},
            "outputs": [
                {
                    "name": "stdout",
                    "output_type": "stream",
                    "text": "11.925851954634435 [11 12  2  0 10] 13\n12.153954379718465 [12 12  2  0 12] 11\n7.920223086404121 [10  8  2  0 10] 8\n18.108557881039847 [16 18  2  0  0] 18\n10.58816607248126 [10 11  2  0  4] 9\n8.249083492959773 [10  9  4  0  0] 0\n7.243749107859294 [8 8 2 0 0] 9\n18.108557881039847 [16 18  2  0  0] 19\n12.870010383993554 [15 13  3  2 14] 13\n10.868393033549623 [10 11  1  0  8] 10\n10.62292978938984 [11 11  4  0  8] 10\n11.653458290273337 [12 12  3  0  2] 11\n15.432781598255442 [15 15  2  0 10] 15\n5.97908175002032 [ 8  6  2  0 18] 7\n9.646727207804549 [11 10  3  0  4] 11\n14.91098700200239 [14 15  2  0  0] 16\n8.339867354827783 [8 9 1 0 0] 8\n6.118094538897565 [ 7  6  2  0 26] 6\n9.667163074261262 [10 10  2  1 14] 9\n12.044073394356408 [15 12  3  0  0] 14\n13.412585305685996 [14 13  1  0  8] 13\n10.661589115273514 [10 11  2  0  6] 11\n15.587460980547217 [16 15  2  0 10] 15\n5.160784537759494 [ 6  6  2  1 13] 8\n12.718750508065416 [14 13  4  0  0] 14\n13.542221511846478 [12 14  3  0  1] 15\n6.4143926118585135 [8 7 1 0 0] 6\n7.363724832737869 [8 9 1 3 0] 10\n15.968445923087199 [15 16  3  0  2] 18\n12.22737742251072 [12 12  2  0 14] 12\n9.169223850828566 [ 8 10  2  0  0] 12\n13.762490640223243 [12 14  3  0  7] 14\n6.196944952036384 [ 6  7  2  1 15] 8\n15.154502441674623 [14 15  1  0  3] 16\n3.587416512641348 [6 5 3 1 0] 0\n15.537284249050433 [16 15  1  0  5] 16\n10.301902679541453 [12 10  2  0 14] 11\n10.102678479146283 [10 10  2  0 17] 10\n11.9336852513417 [12 12  2  0  6] 12\n6.773674529112522 [ 7  7  1  0 14] 5\n"
                }
            ],
            "source": [
                "predictions = linear.predict(x_test) # Grab above test data\n",
                "\n",
                "for x in range(len(predictions)): # Grab the x test data from predictions\n",
                "    print(predictions[x], x_test[x], y_test[x]) # Prints prediction, actual data, G3 (actual value)"
            ]
        },
        {
            "attachments": {},
            "cell_type": "markdown",
            "metadata": {},
            "source": [
                "## Plot the data\n",
                ""
            ]
        },
        {
            "cell_type": "code",
            "execution_count": 40,
            "metadata": {},
            "outputs": [
                {
                    "data": {
                        "image/png": "[encoded data removed]",
                        "text/plain": "\u003cFigure size 640x480 with 1 Axes\u003e"
                    },
                    "metadata": {},
                    "output_type": "display_data"
                }
            ],
            "source": [
                "style.use(\"ggplot\") # sets the style of the graph\n",
                "\n",
                "# Set up scatter plot\n",
                "p = \"G2\"\n",
                "pyplot.scatter(data[p], data[predict]) # putting the \n",
                "pyplot.xlabel(p) # sets the x-axis to G2\n",
                "pyplot.ylabel(predict) # sets the y value to the G3 prediction\n",
                "pyplot.show()\n",
                ""
            ]
        }
    ]
}
